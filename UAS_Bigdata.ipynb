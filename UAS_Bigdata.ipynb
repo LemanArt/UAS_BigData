{
 "cells": [
  {
   "cell_type": "code",
   "execution_count": 1,
   "id": "bd337c9f",
   "metadata": {},
   "outputs": [],
   "source": [
    "import os\n",
    "import matplotlib.pyplot as plt\n",
    "import pandas as pd\n",
    "import numpy as np\n",
    "from pyspark.sql import SparkSession\n",
    "from pyspark.sql.types import StructField, StructType, StringType, IntegerType, FloatType,DoubleType\n",
    "from pyspark.ml.regression import LinearRegression\n",
    "from pyspark.ml.feature import VectorAssembler\n",
    "from pyspark.ml import Pipeline\n",
    "from pyspark.ml.evaluation import RegressionEvaluator"
   ]
  },
  {
   "cell_type": "code",
   "execution_count": 2,
   "id": "658ce4d7",
   "metadata": {},
   "outputs": [
    {
     "name": "stdout",
     "output_type": "stream",
     "text": [
      "Spark Version: 3.5.0\n"
     ]
    }
   ],
   "source": [
    "spark = SparkSession.builder.appName('Analisis Data DBD di Bandung').getOrCreate()\n",
    "\n",
    "print('Spark Version: {}'.format(spark.version))"
   ]
  },
  {
   "cell_type": "code",
   "execution_count": 3,
   "id": "8195a0ab",
   "metadata": {},
   "outputs": [
    {
     "name": "stdout",
     "output_type": "stream",
     "text": [
      "+---------------+----+----+----+----+----+----+----+----+----+\n",
      "|      Kecamatan|2013|2014|2015|2016|2017|2018|2019|2020|2021|\n",
      "+---------------+----+----+----+----+----+----+----+----+----+\n",
      "|          ANDIR|  32|  76|  21| 106|  33|  67|  56|   9|  31|\n",
      "|       ANTAPANI|  43|  43|  76| 170|  92| 128|  22|  12|   8|\n",
      "|      ARCAMANIK|  54|  23|  46| 185|  62|  95|  73|  35|  37|\n",
      "|    ASTANAANYAR|  23|  18|  45|  67|  58|  90|  76|  44|  58|\n",
      "|BABAKAN CIPARAY| 122|  36|  28|  89|  17|  88|  64|  69| 147|\n",
      "+---------------+----+----+----+----+----+----+----+----+----+\n",
      "only showing top 5 rows\n",
      "\n"
     ]
    }
   ],
   "source": [
    "# Membaca data dari file CSV\n",
    "data = spark.read.csv('dataset.csv', header=True, inferSchema=True)\n",
    "data.show(5)"
   ]
  },
  {
   "cell_type": "code",
   "execution_count": 4,
   "id": "087cd6fc",
   "metadata": {},
   "outputs": [],
   "source": [
    "# Mengatasi nilai null dengan menghapus baris yang mengandung null\n",
    "data = data.na.drop()"
   ]
  },
  {
   "cell_type": "code",
   "execution_count": 5,
   "id": "fb3e836b",
   "metadata": {},
   "outputs": [],
   "source": [
    "# Pemilihan fitur\n",
    "feature_cols = data.columns[1:-1]\n",
    "assembler = VectorAssembler(inputCols=feature_cols, outputCol=\"features\")\n"
   ]
  },
  {
   "cell_type": "code",
   "execution_count": 6,
   "id": "a6932722",
   "metadata": {},
   "outputs": [],
   "source": [
    "# Inisialisasi model Regresi Linier\n",
    "lr = LinearRegression(labelCol=\"2020\", featuresCol=\"features\") "
   ]
  },
  {
   "cell_type": "code",
   "execution_count": 7,
   "id": "3e5ff4e4",
   "metadata": {},
   "outputs": [],
   "source": [
    "# Membuat pipeline\n",
    "pipeline = Pipeline(stages=[assembler, lr])"
   ]
  },
  {
   "cell_type": "code",
   "execution_count": 8,
   "id": "4498f16e",
   "metadata": {},
   "outputs": [],
   "source": [
    "\n",
    "# Pemisahan data menjadi train dan test\n",
    "train_data, test_data = data.randomSplit([0.8, 0.2], seed=123)\n"
   ]
  },
  {
   "cell_type": "code",
   "execution_count": 9,
   "id": "813c5de4",
   "metadata": {},
   "outputs": [],
   "source": [
    "# Pelatihan model\n",
    "model = pipeline.fit(train_data)"
   ]
  },
  {
   "cell_type": "code",
   "execution_count": 10,
   "id": "65fcde8e",
   "metadata": {},
   "outputs": [],
   "source": [
    "# Evaluasi model\n",
    "test_results = model.transform(test_data)"
   ]
  },
  {
   "cell_type": "code",
   "execution_count": 11,
   "id": "d226c499",
   "metadata": {},
   "outputs": [],
   "source": [
    "# Evaluasi kinerja model menggunakan Root Mean Squared Error (RMSE)\n",
    "evaluator = RegressionEvaluator(labelCol=\"2020\", predictionCol=\"prediction\", metricName=\"rmse\")\n",
    "rmse = evaluator.evaluate(test_results)"
   ]
  },
  {
   "cell_type": "code",
   "execution_count": 12,
   "id": "15fd6cd3",
   "metadata": {},
   "outputs": [],
   "source": [
    "\n",
    "# Evaluasi kinerja model menggunakan beberapa metrik\n",
    "evaluator = RegressionEvaluator(labelCol=\"2020\", predictionCol=\"prediction\")"
   ]
  },
  {
   "cell_type": "code",
   "execution_count": 13,
   "id": "1e100731",
   "metadata": {},
   "outputs": [
    {
     "name": "stdout",
     "output_type": "stream",
     "text": [
      "Mean Squared Error (MSE) on test data = 5.1397668807599875e-27\n",
      "Mean Absolute Error (MAE) on test data = 6.496390726949487e-14\n",
      "R-squared (R2) on test data = 1.0\n",
      "Root Mean Squared Error (RMSE) on test data = 7.169216749938579e-14\n"
     ]
    }
   ],
   "source": [
    "\n",
    "# Hitung dan tampilkan MSE\n",
    "mse = evaluator.evaluate(test_results, {evaluator.metricName: \"mse\"})\n",
    "print(f\"Mean Squared Error (MSE) on test data = {mse}\")\n",
    "# Hitung dan tampilkan MAE\n",
    "mae = evaluator.evaluate(test_results, {evaluator.metricName: \"mae\"})\n",
    "print(f\"Mean Absolute Error (MAE) on test data = {mae}\")\n",
    "# Hitung dan tampilkan R2\n",
    "r2 = evaluator.evaluate(test_results, {evaluator.metricName: \"r2\"})\n",
    "print(f\"R-squared (R2) on test data = {r2}\")\n",
    "# Menambahkan kolom hasil prediksi ke DataFrame\n",
    "data_with_predictions = model.transform(data).select(\"Kecamatan\", \"prediction\")\n",
    "# Menambahkan kolom \"2022\" dengan hasil prediksi\n",
    "data_with_predictions = data_with_predictions.withColumn(\"2022\", data_with_predictions[\"prediction\"])\n",
    "# Menambahkan kolom hasil prediksi ke DataFrame\n",
    "data_with_predictions = model.transform(data).select(\"Kecamatan\", \"prediction\")\n",
    "# Menambahkan kolom \"2022\" dengan hasil prediksi\n",
    "data_with_predictions = data_with_predictions.withColumn(\"2022\", data_with_predictions[\"prediction\"])\n",
    "print(f\"Root Mean Squared Error (RMSE) on test data = {rmse}\")"
   ]
  },
  {
   "cell_type": "code",
   "execution_count": 14,
   "id": "9b6ba6c5",
   "metadata": {},
   "outputs": [
    {
     "name": "stdout",
     "output_type": "stream",
     "text": [
      "+----------------+--------------------+----+------------------+\n",
      "|       Kecamatan|            features|2021|        prediction|\n",
      "+----------------+--------------------+----+------------------+\n",
      "|       ARCAMANIK|[54.0,23.0,46.0,1...|  37| 35.00000000000004|\n",
      "|   BANDUNG KULON|[112.0,24.0,92.0,...|  28| 13.99999999999998|\n",
      "|CIBEUNYING KALER|[19.0,32.0,25.0,1...|  14|11.000000000000115|\n",
      "|CIBEUNYING KIDUL|[24.0,53.0,12.0,1...|  38|37.999999999999915|\n",
      "|         COBLONG|[34.0,10.0,85.0,2...|  34|25.999999999999936|\n",
      "|     PANYILEUKAN|[45.0,95.0,42.0,4...| 104| 53.99999999999996|\n",
      "|    UJUNG BERUNG|[57.0,26.0,26.0,1...|  14|32.000000000000085|\n",
      "+----------------+--------------------+----+------------------+\n",
      "\n"
     ]
    }
   ],
   "source": [
    "# Menampilkan hasil evaluasi\n",
    "test_results.select(\"Kecamatan\", \"features\", \"2021\", \"prediction\").show(31)"
   ]
  },
  {
   "cell_type": "code",
   "execution_count": 15,
   "id": "fff3ec8e",
   "metadata": {},
   "outputs": [
    {
     "name": "stdout",
     "output_type": "stream",
     "text": [
      "+----------------+------------------+------------------+\n",
      "|       Kecamatan|        prediction|              2022|\n",
      "+----------------+------------------+------------------+\n",
      "|           ANDIR| 9.000000000000108| 9.000000000000108|\n",
      "|        ANTAPANI|11.999999999999977|11.999999999999977|\n",
      "|       ARCAMANIK| 35.00000000000004| 35.00000000000004|\n",
      "|     ASTANAANYAR|44.000000000000014|44.000000000000014|\n",
      "| BABAKAN CIPARAY| 68.99999999999993| 68.99999999999993|\n",
      "|   BANDUNG KIDUL| 22.00000000000003| 22.00000000000003|\n",
      "|   BANDUNG KULON| 13.99999999999998| 13.99999999999998|\n",
      "|   BANDUNG WETAN| 67.00000000000006| 67.00000000000006|\n",
      "|     BATUNUNGGAL|14.999999999999964|14.999999999999964|\n",
      "| BOJONGLOA KALER| 50.99999999999999| 50.99999999999999|\n",
      "| BOJONGLOA KIDUL| 32.99999999999999| 32.99999999999999|\n",
      "|        BUAHBATU|48.999999999999936|48.999999999999936|\n",
      "|CIBEUNYING KALER|11.000000000000115|11.000000000000115|\n",
      "|CIBEUNYING KIDUL|37.999999999999915|37.999999999999915|\n",
      "|          CIBIRU| 77.99999999999989| 77.99999999999989|\n",
      "|         CICENDO|25.000000000000043|25.000000000000043|\n",
      "|         CIDADAP|48.000000000000114|48.000000000000114|\n",
      "|         CINAMBO|21.000000000000014|21.000000000000014|\n",
      "|         COBLONG|25.999999999999936|25.999999999999936|\n",
      "|        GEDEBAGE|40.999999999999986|40.999999999999986|\n",
      "+----------------+------------------+------------------+\n",
      "only showing top 20 rows\n",
      "\n"
     ]
    }
   ],
   "source": [
    "\n",
    "# Menampilkan hasil\n",
    "data_with_predictions.show()"
   ]
  },
  {
   "cell_type": "code",
   "execution_count": null,
   "id": "7b359407",
   "metadata": {},
   "outputs": [],
   "source": []
  },
  {
   "cell_type": "code",
   "execution_count": 16,
   "id": "fb47fc4f",
   "metadata": {},
   "outputs": [
    {
     "data": {
      "image/png": "[encoded data removed]",
      "text/plain": [
       "<Figure size 1000x600 with 1 Axes>"
      ]
     },
     "metadata": {},
     "output_type": "display_data"
    }
   ],
   "source": [
    "import matplotlib.pyplot as plt\n",
    "import numpy as np\n",
    "\n",
    "# Mendapatkan hasil prediksi untuk data uji\n",
    "predictions = test_results.select(\"2021\", \"prediction\").toPandas()\n",
    "# Mengatasi nilai null dengan menghapus baris yang mengandung null\n",
    "data = data.na.drop()\n",
    "\n",
    "# Pemilihan fitur\n",
    "feature_cols = data.columns[1:-1]\n",
    "assembler = VectorAssembler(inputCols=feature_cols, outputCol=\"features\")\n",
    "\n",
    "# ... (sisa kode tetap sama)\n",
    "\n",
    "\n",
    "# Mengambil nilai sebenarnya dan prediksi\n",
    "actual_values = predictions[\"2021\"]\n",
    "predicted_values = predictions[\"prediction\"]\n",
    "\n",
    "# Membuat array indeks untuk plotting\n",
    "indices = np.arange(len(actual_values))\n",
    "\n",
    "# Membuat plot\n",
    "plt.figure(figsize=(10, 6))\n",
    "plt.plot(indices, actual_values, label='Actual Values', marker='o')\n",
    "plt.plot(indices, predicted_values, label='Predicted Values', marker='x')\n",
    "\n",
    "# Menambahkan label dan judul\n",
    "plt.xlabel('Index')\n",
    "plt.ylabel('Value')\n",
    "plt.title('Actual vs Predicted Values')\n",
    "plt.legend()\n",
    "plt.grid(True)\n",
    "plt.show()\n"
   ]
  },
  {
   "cell_type": "code",
   "execution_count": null,
   "id": "34e6631a",
   "metadata": {},
   "outputs": [],
   "source": []
  }
 ],
 "metadata": {
  "kernelspec": {
   "display_name": "Python 3 (ipykernel)",
   "language": "python",
   "name": "python3"
  },
  "language_info": {
   "codemirror_mode": {
    "name": "ipython",
    "version": 3
   },
   "file_extension": ".py",
   "mimetype": "text/x-python",
   "name": "python",
   "nbconvert_exporter": "python",
   "pygments_lexer": "ipython3",
   "version": "3.11.4"
  }
 },
 "nbformat": 4,
 "nbformat_minor": 5
}
